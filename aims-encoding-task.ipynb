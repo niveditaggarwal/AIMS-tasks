{
 "cells": [
  {
   "cell_type": "code",
   "execution_count": 1,
   "id": "8624a69b",
   "metadata": {
    "_cell_guid": "b1076dfc-b9ad-4769-8c92-a6c4dae69d19",
    "_uuid": "8f2839f25d086af736a60e9eeb907d3b93b6e0e5",
    "execution": {
     "iopub.execute_input": "2024-10-23T08:52:41.242482Z",
     "iopub.status.busy": "2024-10-23T08:52:41.241059Z",
     "iopub.status.idle": "2024-10-23T08:52:42.164501Z",
     "shell.execute_reply": "2024-10-23T08:52:42.163023Z"
    },
    "papermill": {
     "duration": 0.932019,
     "end_time": "2024-10-23T08:52:42.167126",
     "exception": false,
     "start_time": "2024-10-23T08:52:41.235107",
     "status": "completed"
    },
    "tags": []
   },
   "outputs": [
    {
     "name": "stdout",
     "output_type": "stream",
     "text": [
      "/kaggle/input/student-sleep-patterns/student_sleep_patterns.csv\n"
     ]
    }
   ],
   "source": [
    "# This Python 3 environment comes with many helpful analytics libraries installed\n",
    "# It is defined by the kaggle/python Docker image: https://github.com/kaggle/docker-python\n",
    "# For example, here's several helpful packages to load\n",
    "\n",
    "import numpy as np # linear algebra\n",
    "import pandas as pd # data processing, CSV file I/O (e.g. pd.read_csv)\n",
    "\n",
    "# Input data files are available in the read-only \"../input/\" directory\n",
    "# For example, running this (by clicking run or pressing Shift+Enter) will list all files under the input directory\n",
    "\n",
    "import os\n",
    "for dirname, _, filenames in os.walk('/kaggle/input'):\n",
    "    for filename in filenames:\n",
    "        print(os.path.join(dirname, filename))\n",
    "\n",
    "# You can write up to 20GB to the current directory (/kaggle/working/) that gets preserved as output when you create a version using \"Save & Run All\" \n",
    "# You can also write temporary files to /kaggle/temp/, but they won't be saved outside of the current session"
   ]
  },
  {
   "cell_type": "code",
   "execution_count": 2,
   "id": "c927342a",
   "metadata": {
    "execution": {
     "iopub.execute_input": "2024-10-23T08:52:42.175824Z",
     "iopub.status.busy": "2024-10-23T08:52:42.175206Z",
     "iopub.status.idle": "2024-10-23T08:52:42.210441Z",
     "shell.execute_reply": "2024-10-23T08:52:42.209237Z"
    },
    "papermill": {
     "duration": 0.042758,
     "end_time": "2024-10-23T08:52:42.213458",
     "exception": false,
     "start_time": "2024-10-23T08:52:42.170700",
     "status": "completed"
    },
    "tags": []
   },
   "outputs": [
    {
     "name": "stdout",
     "output_type": "stream",
     "text": [
      "Original Data:\n",
      "   Student_ID  Age Gender University_Year  Sleep_Duration  Study_Hours  \\\n",
      "0           1   24  Other        2nd Year             7.7          7.9   \n",
      "1           2   21   Male        1st Year             6.3          6.0   \n",
      "2           3   22   Male        4th Year             5.1          6.7   \n",
      "3           4   24  Other        4th Year             6.3          8.6   \n",
      "4           5   20   Male        4th Year             4.7          2.7   \n",
      "\n",
      "   Screen_Time  Caffeine_Intake  Physical_Activity  Sleep_Quality  \\\n",
      "0          3.4                2                 37             10   \n",
      "1          1.9                5                 74              2   \n",
      "2          3.9                5                 53              5   \n",
      "3          2.8                4                 55              9   \n",
      "4          2.7                0                 85              3   \n",
      "\n",
      "   Weekday_Sleep_Start  Weekend_Sleep_Start  Weekday_Sleep_End  \\\n",
      "0                14.16                 4.05               7.41   \n",
      "1                 8.73                 7.10               8.21   \n",
      "2                20.00                20.47               6.88   \n",
      "3                19.82                 4.08               6.69   \n",
      "4                20.98                 6.12               8.98   \n",
      "\n",
      "   Weekend_Sleep_End  \n",
      "0               7.06  \n",
      "1              10.21  \n",
      "2              10.92  \n",
      "3               9.42  \n",
      "4               9.01  \n"
     ]
    }
   ],
   "source": [
    "import pandas as pd\n",
    "import numpy as np\n",
    "\n",
    "# Load the dataset\n",
    "df = pd.read_csv('/kaggle/input/student-sleep-patterns/student_sleep_patterns.csv')\n",
    "\n",
    "# Display the original data\n",
    "print(\"Original Data:\")\n",
    "print(df.head())"
   ]
  },
  {
   "cell_type": "code",
   "execution_count": 3,
   "id": "fccbe3b9",
   "metadata": {
    "execution": {
     "iopub.execute_input": "2024-10-23T08:52:42.222838Z",
     "iopub.status.busy": "2024-10-23T08:52:42.221577Z",
     "iopub.status.idle": "2024-10-23T08:52:42.237260Z",
     "shell.execute_reply": "2024-10-23T08:52:42.236110Z"
    },
    "papermill": {
     "duration": 0.022946,
     "end_time": "2024-10-23T08:52:42.239850",
     "exception": false,
     "start_time": "2024-10-23T08:52:42.216904",
     "status": "completed"
    },
    "tags": []
   },
   "outputs": [
    {
     "name": "stdout",
     "output_type": "stream",
     "text": [
      "\n",
      "After Ordinal Encoding of Sleep_Quality:\n",
      "   Sleep_Quality  Sleep_Quality_Ordinal\n",
      "0             10                     10\n",
      "1              2                      2\n",
      "2              5                      5\n",
      "3              9                      9\n",
      "4              3                      3\n"
     ]
    }
   ],
   "source": [
    "# Perform Ordinal Encoding\n",
    "df['Sleep_Quality_Ordinal'] = df['Sleep_Quality'] \n",
    "\n",
    "# Display the result after ordinal encoding\n",
    "print(\"\\nAfter Ordinal Encoding of Sleep_Quality:\")\n",
    "print(df[['Sleep_Quality', 'Sleep_Quality_Ordinal']].head())"
   ]
  },
  {
   "cell_type": "code",
   "execution_count": 4,
   "id": "a0d46898",
   "metadata": {
    "execution": {
     "iopub.execute_input": "2024-10-23T08:52:42.248616Z",
     "iopub.status.busy": "2024-10-23T08:52:42.248143Z",
     "iopub.status.idle": "2024-10-23T08:52:42.273005Z",
     "shell.execute_reply": "2024-10-23T08:52:42.271543Z"
    },
    "papermill": {
     "duration": 0.032474,
     "end_time": "2024-10-23T08:52:42.275773",
     "exception": false,
     "start_time": "2024-10-23T08:52:42.243299",
     "status": "completed"
    },
    "tags": []
   },
   "outputs": [
    {
     "name": "stdout",
     "output_type": "stream",
     "text": [
      "\n",
      "After One-Hot Encoding:\n",
      "   Student_ID  Age  Sleep_Duration  Study_Hours  Screen_Time  Caffeine_Intake  \\\n",
      "0           1   24             7.7          7.9          3.4                2   \n",
      "1           2   21             6.3          6.0          1.9                5   \n",
      "2           3   22             5.1          6.7          3.9                5   \n",
      "3           4   24             6.3          8.6          2.8                4   \n",
      "4           5   20             4.7          2.7          2.7                0   \n",
      "\n",
      "   Physical_Activity  Sleep_Quality  Weekday_Sleep_Start  Weekend_Sleep_Start  \\\n",
      "0                 37             10                14.16                 4.05   \n",
      "1                 74              2                 8.73                 7.10   \n",
      "2                 53              5                20.00                20.47   \n",
      "3                 55              9                19.82                 4.08   \n",
      "4                 85              3                20.98                 6.12   \n",
      "\n",
      "   Weekday_Sleep_End  Weekend_Sleep_End  Sleep_Quality_Ordinal  Gender_Female  \\\n",
      "0               7.41               7.06                     10              0   \n",
      "1               8.21              10.21                      2              0   \n",
      "2               6.88              10.92                      5              0   \n",
      "3               6.69               9.42                      9              0   \n",
      "4               8.98               9.01                      3              0   \n",
      "\n",
      "   Gender_Male  Gender_Other  University_Year_1st Year  \\\n",
      "0            0             1                         0   \n",
      "1            1             0                         1   \n",
      "2            1             0                         0   \n",
      "3            0             1                         0   \n",
      "4            1             0                         0   \n",
      "\n",
      "   University_Year_2nd Year  University_Year_3rd Year  \\\n",
      "0                         1                         0   \n",
      "1                         0                         0   \n",
      "2                         0                         0   \n",
      "3                         0                         0   \n",
      "4                         0                         0   \n",
      "\n",
      "   University_Year_4th Year  \n",
      "0                         0  \n",
      "1                         0  \n",
      "2                         1  \n",
      "3                         1  \n",
      "4                         1  \n"
     ]
    }
   ],
   "source": [
    "#One-Hot Encoding\n",
    "df_one_hot = pd.get_dummies(df, columns=['Gender', 'University_Year'], drop_first=False, dtype=int)\n",
    "\n",
    "# Display the result after one-hot encoding\n",
    "print(\"\\nAfter One-Hot Encoding:\")\n",
    "print(df_one_hot.head())"
   ]
  },
  {
   "cell_type": "code",
   "execution_count": 5,
   "id": "5188cd6b",
   "metadata": {
    "execution": {
     "iopub.execute_input": "2024-10-23T08:52:42.285146Z",
     "iopub.status.busy": "2024-10-23T08:52:42.284736Z",
     "iopub.status.idle": "2024-10-23T08:52:42.295086Z",
     "shell.execute_reply": "2024-10-23T08:52:42.293763Z"
    },
    "papermill": {
     "duration": 0.018764,
     "end_time": "2024-10-23T08:52:42.298161",
     "exception": false,
     "start_time": "2024-10-23T08:52:42.279397",
     "status": "completed"
    },
    "tags": []
   },
   "outputs": [
    {
     "name": "stdout",
     "output_type": "stream",
     "text": [
      "\n",
      "Final Data (Ordinal + One-Hot Encoding):\n",
      "   Sleep_Quality_Ordinal  Gender_Female  Gender_Male  Gender_Other  \\\n",
      "0                     10              0            0             1   \n",
      "1                      2              0            1             0   \n",
      "2                      5              0            1             0   \n",
      "3                      9              0            0             1   \n",
      "4                      3              0            1             0   \n",
      "\n",
      "   University_Year_2nd Year  University_Year_3rd Year  \\\n",
      "0                         1                         0   \n",
      "1                         0                         0   \n",
      "2                         0                         0   \n",
      "3                         0                         0   \n",
      "4                         0                         0   \n",
      "\n",
      "   University_Year_4th Year  \n",
      "0                         0  \n",
      "1                         0  \n",
      "2                         1  \n",
      "3                         1  \n",
      "4                         1  \n"
     ]
    }
   ],
   "source": [
    "# Display the final result (Ordinal + One-Hot Encoding)\n",
    "print(\"\\nFinal Data (Ordinal + One-Hot Encoding):\")\n",
    "print(df_one_hot[['Sleep_Quality_Ordinal', 'Gender_Female', 'Gender_Male', 'Gender_Other', \n",
    "                  'University_Year_2nd Year', 'University_Year_3rd Year', \n",
    "                  'University_Year_4th Year']].head())"
   ]
  }
 ],
 "metadata": {
  "kaggle": {
   "accelerator": "none",
   "dataSources": [
    {
     "datasetId": 5871137,
     "sourceId": 9619813,
     "sourceType": "datasetVersion"
    }
   ],
   "dockerImageVersionId": 30786,
   "isGpuEnabled": false,
   "isInternetEnabled": false,
   "language": "python",
   "sourceType": "notebook"
  },
  "kernelspec": {
   "display_name": "Python 3",
   "language": "python",
   "name": "python3"
  },
  "language_info": {
   "codemirror_mode": {
    "name": "ipython",
    "version": 3
   },
   "file_extension": ".py",
   "mimetype": "text/x-python",
   "name": "python",
   "nbconvert_exporter": "python",
   "pygments_lexer": "ipython3",
   "version": "3.10.14"
  },
  "papermill": {
   "default_parameters": {},
   "duration": 4.579996,
   "end_time": "2024-10-23T08:52:42.823647",
   "environment_variables": {},
   "exception": null,
   "input_path": "__notebook__.ipynb",
   "output_path": "__notebook__.ipynb",
   "parameters": {},
   "start_time": "2024-10-23T08:52:38.243651",
   "version": "2.6.0"
  }
 },
 "nbformat": 4,
 "nbformat_minor": 5
}
